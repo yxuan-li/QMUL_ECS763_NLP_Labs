{
 "cells": [
  {
   "cell_type": "markdown",
   "metadata": {},
   "source": [
    "# A dictionary based sentiment analyzer which reads in a dictionary of words matched to sentiments"
   ]
  },
  {
   "cell_type": "code",
   "execution_count": 1,
   "metadata": {},
   "outputs": [],
   "source": [
    "# libraries for: regular expressions, file I/O\n",
    "import re\n",
    "import sys\n",
    "import unicodecsv  # this may need to be installed through pip or conda install via the command line"
   ]
  },
  {
   "cell_type": "code",
   "execution_count": 2,
   "metadata": {},
   "outputs": [],
   "source": [
    "text = \"hello I am happy.:) :)Are you?\""
   ]
  },
  {
   "cell_type": "code",
   "execution_count": 3,
   "metadata": {},
   "outputs": [],
   "source": [
    "def preProcess(text):\n",
    "    print(\"original:\", text)\n",
    "    # sentence segmentation - assume already done\n",
    "    # word tokenisation\n",
    "    text = re.sub(r\"(\\w)([.,;:!?'\\\"”\\)])\", r\"\\1 \\2\", text) # separates punctuation at ends of strings\n",
    "    text = re.sub(r\"([.,;:!?'\\\"“\\(\\)])(\\w)\", r\"\\1 \\2\", text) # separates punctuation at beginning of strings\n",
    "    print(\"tokenising:\", text)\n",
    "    tokens = re.split(r\"\\s+\",text)\n",
    "    # normalisation - only by lower casing for now\n",
    "    tokens = [t.lower() for t in tokens]\n",
    "    return tokens"
   ]
  },
  {
   "cell_type": "code",
   "execution_count": 4,
   "metadata": {},
   "outputs": [
    {
     "name": "stdout",
     "output_type": "stream",
     "text": [
      "original: hello I am happy.:) :)Are you?\n",
      "tokenising: hello I am happy .:) :) Are you ?\n",
      "['hello', 'i', 'am', 'happy', '.:)', ':)', 'are', 'you', '?']\n"
     ]
    }
   ],
   "source": [
    "print(preProcess(text))"
   ]
  },
  {
   "cell_type": "code",
   "execution_count": 6,
   "metadata": {},
   "outputs": [
    {
     "name": "stdout",
     "output_type": "stream",
     "text": [
      "{'happy': 1.0, 'sad': -1.0, 'good': 1.0, 'bad': -1.0, 'angry': -2.0, 'ecstatic': 2.0}\n"
     ]
    }
   ],
   "source": [
    "# load an external dictionary from local file\n",
    "sentimentDict = {}\n",
    "with open('sentiment.csv', 'rb') as f:\n",
    "    reader = unicodecsv.reader(f, encoding='utf-8')\n",
    "    for line in reader:\n",
    "        sentimentDict[line[0]] = float(line[1])\n",
    "print(sentimentDict)"
   ]
  },
  {
   "cell_type": "code",
   "execution_count": 7,
   "metadata": {},
   "outputs": [],
   "source": [
    "def getSentiment(word):\n",
    "    try:\n",
    "        # if the word is in the sentimentDict, return its value\n",
    "        return sentimentDict[word]\n",
    "    except KeyError:\n",
    "        # else a netural 0\n",
    "        return 0.0"
   ]
  },
  {
   "cell_type": "code",
   "execution_count": 8,
   "metadata": {},
   "outputs": [],
   "source": [
    "# An alternative way of coding the above function\n",
    "if False:\n",
    "    def getSentiment(word):\n",
    "        if word in sentimentDict.keys():\n",
    "            return sentimentDict[word]\n",
    "        else:\n",
    "            # else a netural 0\n",
    "            return 0.0"
   ]
  },
  {
   "cell_type": "code",
   "execution_count": 9,
   "metadata": {},
   "outputs": [],
   "source": [
    "def analyseSentiment(text):\n",
    "    words = preProcess(text)\n",
    "    print(\"words:\", words)\n",
    "    scores = [getSentiment(w) for w in words]\n",
    "    print(\"scores\", scores)\n",
    "    return sum(scores)"
   ]
  },
  {
   "cell_type": "code",
   "execution_count": 10,
   "metadata": {},
   "outputs": [
    {
     "name": "stdout",
     "output_type": "stream",
     "text": [
      "original: hello I am happy.:) :)Are you?\n",
      "tokenising: hello I am happy .:) :) Are you ?\n",
      "words: ['hello', 'i', 'am', 'happy', '.:)', ':)', 'are', 'you', '?']\n",
      "scores [0.0, 0.0, 0.0, 1.0, 0.0, 0.0, 0.0, 0.0, 0.0]\n",
      "sentiment =  1.0\n"
     ]
    }
   ],
   "source": [
    "s = analyseSentiment(text)\n",
    "print(\"sentiment = \", s)"
   ]
  },
  {
   "cell_type": "code",
   "execution_count": 11,
   "metadata": {},
   "outputs": [
    {
     "name": "stdout",
     "output_type": "stream",
     "text": [
      "original: i am very angry\n",
      "tokenising: i am very angry\n",
      "words: ['i', 'am', 'very', 'angry']\n",
      "scores [0.0, 0.0, 0.0, -2.0]\n"
     ]
    },
    {
     "data": {
      "text/plain": [
       "-2.0"
      ]
     },
     "execution_count": 11,
     "metadata": {},
     "output_type": "execute_result"
    }
   ],
   "source": [
    "analyseSentiment(\"i am very angry\")"
   ]
  },
  {
   "cell_type": "markdown",
   "metadata": {},
   "source": [
    "# Exercise: Try adding new entries to the file 'sentiment.csv' and re-running the code from the top, trying different sentences with the target words in."
   ]
  },
  {
   "cell_type": "code",
   "execution_count": null,
   "metadata": {},
   "outputs": [],
   "source": []
  },
  {
   "cell_type": "code",
   "execution_count": null,
   "metadata": {},
   "outputs": [],
   "source": []
  },
  {
   "cell_type": "code",
   "execution_count": null,
   "metadata": {},
   "outputs": [],
   "source": []
  }
 ],
 "metadata": {
  "kernelspec": {
   "display_name": "Python 3 (ipykernel)",
   "language": "python",
   "name": "python3"
  },
  "language_info": {
   "codemirror_mode": {
    "name": "ipython",
    "version": 3
   },
   "file_extension": ".py",
   "mimetype": "text/x-python",
   "name": "python",
   "nbconvert_exporter": "python",
   "pygments_lexer": "ipython3",
   "version": "3.10.4"
  }
 },
 "nbformat": 4,
 "nbformat_minor": 4
}
