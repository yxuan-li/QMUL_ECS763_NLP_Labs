{
 "cells": [
  {
   "cell_type": "markdown",
   "metadata": {},
   "source": [
    "# A simple dictionary-based sentiment analyser"
   ]
  },
  {
   "cell_type": "code",
   "execution_count": 11,
   "metadata": {},
   "outputs": [],
   "source": [
    "# library for regular expressions\n",
    "import re"
   ]
  },
  {
   "cell_type": "code",
   "execution_count": 12,
   "metadata": {},
   "outputs": [],
   "source": [
    "text = \"hello I am happy.:) :)Are you?\""
   ]
  },
  {
   "cell_type": "code",
   "execution_count": 13,
   "metadata": {},
   "outputs": [],
   "source": [
    "def preProcess(text):\n",
    "    print(\"original:\", text)\n",
    "    # sentence segmentation - assume already done\n",
    "    # word tokenisation\n",
    "    text = re.sub(r\"(\\w)([.,;:!?'\\\"”\\)])\", r\"\\1 \\2\", text) # separates punctuation at ends of strings\n",
    "    text = re.sub(r\"([.,;:!?'\\\"“\\(\\)])(\\w)\", r\"\\1 \\2\", text) # separates punctuation at beginning of strings\n",
    "    print(\"tokenising:\", text)\n",
    "    tokens = re.split(r\"\\s+\",text)\n",
    "    # normalisation - only by lower casing for now\n",
    "    tokens = [t.lower() for t in tokens]\n",
    "    return tokens"
   ]
  },
  {
   "cell_type": "code",
   "execution_count": 14,
   "metadata": {},
   "outputs": [
    {
     "name": "stdout",
     "output_type": "stream",
     "text": [
      "original: hello I am happy.:) :)Are you?\n",
      "tokenising: hello I am happy .:) :) Are you ?\n",
      "['hello', 'i', 'am', 'happy', '.:)', ':)', 'are', 'you', '?']\n",
      "original: I am sad :(\n",
      "tokenising: I am sad :(\n",
      "['i', 'am', 'sad', ':(']\n"
     ]
    }
   ],
   "source": [
    "print(preProcess(text))\n",
    "print(preProcess(\"I am sad :(\"))"
   ]
  },
  {
   "cell_type": "code",
   "execution_count": 15,
   "metadata": {},
   "outputs": [
    {
     "name": "stdout",
     "output_type": "stream",
     "text": [
      "{'happy': 1.0, 'sad': -1.0, 'good': 1.0, 'bad': -1.0}\n"
     ]
    }
   ],
   "source": [
    "# a very simple dictionary\n",
    "sentimentDict = { 'happy': +1.0, 'sad': -1.0 , 'good': +1.0, 'bad': -1.0}\n",
    "print(sentimentDict)"
   ]
  },
  {
   "cell_type": "code",
   "execution_count": 16,
   "metadata": {},
   "outputs": [],
   "source": [
    "def getSentiment(word):\n",
    "    try:\n",
    "        # if the word is in the sentimentDict, return its value\n",
    "        return sentimentDict[word]\n",
    "    except KeyError:\n",
    "        # else a netural 0\n",
    "        return 0.0"
   ]
  },
  {
   "cell_type": "code",
   "execution_count": 17,
   "metadata": {},
   "outputs": [],
   "source": [
    "# An alternative way of coding the above function\n",
    "if False:\n",
    "    def getSentiment(word):\n",
    "        if word in sentimentDict.keys():\n",
    "            return sentimentDict[word]\n",
    "        else:\n",
    "            # else a netural 0\n",
    "            return 0.0"
   ]
  },
  {
   "cell_type": "code",
   "execution_count": 18,
   "metadata": {},
   "outputs": [],
   "source": [
    "def analyseSentiment(text):\n",
    "    words = preProcess(text)\n",
    "    print(\"words:\", words)\n",
    "    scores = [getSentiment(w) for w in words]\n",
    "    print(\"scores\", scores)\n",
    "    return sum(scores)"
   ]
  },
  {
   "cell_type": "code",
   "execution_count": 19,
   "metadata": {},
   "outputs": [
    {
     "name": "stdout",
     "output_type": "stream",
     "text": [
      "original: hello I am happy.:) :)Are you?\n",
      "tokenising: hello I am happy .:) :) Are you ?\n",
      "words: ['hello', 'i', 'am', 'happy', '.:)', ':)', 'are', 'you', '?']\n",
      "scores [0.0, 0.0, 0.0, 1.0, 0.0, 0.0, 0.0, 0.0, 0.0]\n",
      "sentiment =  1.0\n"
     ]
    }
   ],
   "source": [
    "s = analyseSentiment(text)\n",
    "print(\"sentiment = \", s)"
   ]
  },
  {
   "cell_type": "code",
   "execution_count": 20,
   "metadata": {},
   "outputs": [
    {
     "name": "stdout",
     "output_type": "stream",
     "text": [
      "original: i am very sad\n",
      "tokenising: i am very sad\n",
      "words: ['i', 'am', 'very', 'sad']\n",
      "scores [0.0, 0.0, 0.0, -1.0]\n"
     ]
    },
    {
     "data": {
      "text/plain": [
       "-1.0"
      ]
     },
     "execution_count": 20,
     "metadata": {},
     "output_type": "execute_result"
    }
   ],
   "source": [
    "analyseSentiment(\"i am very sad\")"
   ]
  },
  {
   "cell_type": "markdown",
   "metadata": {},
   "source": [
    "# Exercise: Try adding new entries to the dictionary 'sentimentDict' above and re-running the code from the top, trying different sentences with the target words in."
   ]
  },
  {
   "cell_type": "code",
   "execution_count": 21,
   "metadata": {},
   "outputs": [
    {
     "name": "stdout",
     "output_type": "stream",
     "text": [
      "original: this is bad\n",
      "tokenising: this is bad\n",
      "words: ['this', 'is', 'bad']\n",
      "scores [0.0, 0.0, -1.0]\n"
     ]
    },
    {
     "data": {
      "text/plain": [
       "-1.0"
      ]
     },
     "execution_count": 21,
     "metadata": {},
     "output_type": "execute_result"
    }
   ],
   "source": [
    "analyseSentiment(\"this is bad\")"
   ]
  },
  {
   "cell_type": "code",
   "execution_count": null,
   "metadata": {},
   "outputs": [],
   "source": []
  },
  {
   "cell_type": "code",
   "execution_count": null,
   "metadata": {},
   "outputs": [],
   "source": []
  }
 ],
 "metadata": {
  "kernelspec": {
   "display_name": "Python 3",
   "language": "python",
   "name": "python3"
  },
  "language_info": {
   "codemirror_mode": {
    "name": "ipython",
    "version": 3
   },
   "file_extension": ".py",
   "mimetype": "text/x-python",
   "name": "python",
   "nbconvert_exporter": "python",
   "pygments_lexer": "ipython3",
   "version": "3.6.5"
  }
 },
 "nbformat": 4,
 "nbformat_minor": 4
}
